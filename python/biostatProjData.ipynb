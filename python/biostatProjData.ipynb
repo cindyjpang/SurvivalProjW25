{
 "cells": [
  {
   "cell_type": "code",
   "execution_count": 1,
   "metadata": {},
   "outputs": [],
   "source": [
    "import pandas as pd \n",
    "import numpy as np\n",
    "\n",
    "clinical_data = pd.read_table('../data/TCGA-OV.clinical.tsv.gz.tsv', compression='gzip')\n",
    "survival_data = pd.read_table(\"../data/TCGA-OV.survival.tsv.gz.tsv\", compression = 'gzip')"
   ]
  },
  {
   "cell_type": "markdown",
   "metadata": {},
   "source": [
    "# Merge Clinical and Survival Data"
   ]
  },
  {
   "cell_type": "code",
   "execution_count": 2,
   "metadata": {},
   "outputs": [],
   "source": [
    "survTarget = survival_data[['sample', 'OS.time','OS']]\n",
    "\n",
    "mergeData = clinical_data.merge(survTarget, how='inner', on='sample') # methylation data with survivalTarget data "
   ]
  },
  {
   "cell_type": "code",
   "execution_count": 3,
   "metadata": {},
   "outputs": [],
   "source": [
    "mergeData.to_csv('../data/survProjData.csv')"
   ]
  }
 ],
 "metadata": {
  "kernelspec": {
   "display_name": "base",
   "language": "python",
   "name": "python3"
  },
  "language_info": {
   "codemirror_mode": {
    "name": "ipython",
    "version": 3
   },
   "file_extension": ".py",
   "mimetype": "text/x-python",
   "name": "python",
   "nbconvert_exporter": "python",
   "pygments_lexer": "ipython3",
   "version": "3.12.7"
  }
 },
 "nbformat": 4,
 "nbformat_minor": 2
}
